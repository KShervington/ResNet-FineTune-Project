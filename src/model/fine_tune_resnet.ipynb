{
 "cells": [
  {
   "cell_type": "markdown",
   "metadata": {},
   "source": [
    "### Import Libraries"
   ]
  },
  {
   "cell_type": "code",
   "execution_count": 1,
   "metadata": {},
   "outputs": [],
   "source": [
    "import os\n",
    "import numpy as np\n",
    "import tensorflow as tf\n",
    "from tensorflow import keras\n",
    "from tensorflow.keras import layers, models\n",
    "from tensorflow.keras.preprocessing.image import ImageDataGenerator\n",
    "import matplotlib.pyplot as plt\n",
    "from sklearn.metrics import classification_report, confusion_matrix"
   ]
  },
  {
   "cell_type": "code",
   "execution_count": 1,
   "metadata": {},
   "outputs": [
    {
     "name": "stdout",
     "output_type": "stream",
     "text": [
      "GPU is Available!\n"
     ]
    }
   ],
   "source": [
    "if len(tf.config.list_physical_devices('GPU')) > 0:\n",
    "    print(\"GPU is Available!\" )\n",
    "else:\n",
    "    raise Exception(\"No GPU available\") "
   ]
  },
  {
   "cell_type": "markdown",
   "metadata": {},
   "source": [
    "### Hyperparameters"
   ]
  },
  {
   "cell_type": "code",
   "execution_count": 3,
   "metadata": {},
   "outputs": [],
   "source": [
    "BATCH_SIZE = 32\n",
    "DROPOUT_RATE = 0.5\n",
    "ACTIVATION_FUNCTION = 'softmax'\n",
    "LEARNING_RATE = 1e-4\n",
    "LOSS_FUNCTION = 'categorical_crossentropy'"
   ]
  },
  {
   "cell_type": "markdown",
   "metadata": {},
   "source": [
    "### Data Processing and Augmentation"
   ]
  },
  {
   "cell_type": "markdown",
   "metadata": {},
   "source": [
    "Training data: `127, 433` images</br>\n",
    "Test data: `27,307` images</br>\n",
    "Validation data: `27,307` images"
   ]
  },
  {
   "cell_type": "code",
   "execution_count": 4,
   "metadata": {},
   "outputs": [
    {
     "name": "stdout",
     "output_type": "stream",
     "text": [
      "Found 127433 images belonging to 27 classes.\n",
      "Found 19860 images belonging to 27 classes.\n",
      "Found 49500 images belonging to 27 classes.\n"
     ]
    }
   ],
   "source": [
    "# Define image size and batch size\n",
    "IMG_HEIGHT, IMG_WIDTH = 224, 224  # ResNet-50 input size\n",
    "\n",
    "# Define data augmentation for the training set\n",
    "train_datagen = ImageDataGenerator(\n",
    "    rescale=1./255,\n",
    "    rotation_range=15,\n",
    "    width_shift_range=0.1,\n",
    "    height_shift_range=0.1,\n",
    "    horizontal_flip=True\n",
    ")\n",
    "\n",
    "# No augmentation for validation and test sets, only rescaling\n",
    "validation_datagen = ImageDataGenerator(rescale=1./255)\n",
    "test_datagen = ImageDataGenerator(rescale=1./255)\n",
    "\n",
    "# Create generators\n",
    "train_generator = train_datagen.flow_from_directory(\n",
    "    '../../dataset/train',\n",
    "    target_size=(IMG_HEIGHT, IMG_WIDTH),\n",
    "    batch_size=BATCH_SIZE,\n",
    "    class_mode='categorical'\n",
    ")\n",
    "\n",
    "validation_generator = validation_datagen.flow_from_directory(\n",
    "    '../../dataset/validation',\n",
    "    target_size=(IMG_HEIGHT, IMG_WIDTH),\n",
    "    batch_size=BATCH_SIZE,\n",
    "    class_mode='categorical'\n",
    ")\n",
    "\n",
    "test_generator = test_datagen.flow_from_directory(\n",
    "    '../../dataset/test',\n",
    "    target_size=(IMG_HEIGHT, IMG_WIDTH),\n",
    "    batch_size=BATCH_SIZE,\n",
    "    class_mode='categorical',\n",
    "    shuffle=False\n",
    ")"
   ]
  },
  {
   "cell_type": "markdown",
   "metadata": {},
   "source": [
    "### Load Pretrained ResNet-50 Model"
   ]
  },
  {
   "cell_type": "markdown",
   "metadata": {},
   "source": [
    "Potential to experiment with other pretrained ResNet models from Keras. OPtions currently offerred are:\n",
    "\n",
    "| Model | Size (MB) | Top-1 Accuracy | Top-5 Accuracy | Parameters | Depth | Time (ms) per inference step (CPU) | Time (ms) per inference step (GPU) |\n",
    "| --- | --- | --- | --- | --- | --- | --- | --- |\n",
    "| ResNet50    |\t98  | 74.9% | 92.1% | 25.6M | 107 |\t58.2 |\t4.6 |\n",
    "| ResNet50V2  |\t98  | 76.0% | 93.0% | 25.6M | 103 |\t45.6 |\t4.4 |\n",
    "| ResNet101   |\t171 | 76.4% | 92.8% | 44.7M | 209 |\t89.6 |\t5.2 |\n",
    "| ResNet101V2 |\t171 | 77.2% | 93.8% | 44.7M | 205 |\t72.7 |\t5.4 |\n",
    "| ResNet152   |\t232 | 76.6%\t| 93.1%\t| 60.4M\t| 311 | 127.4|\t6.5 |"
   ]
  },
  {
   "cell_type": "markdown",
   "metadata": {},
   "source": [
    "Deeper models are recommended when one has access to more computational resources and larger datasets."
   ]
  },
  {
   "cell_type": "code",
   "execution_count": 8,
   "metadata": {},
   "outputs": [],
   "source": [
    "# Load the ResNet-50 model without the top classification layer\n",
    "base_model = keras.applications.ResNet50(\n",
    "    weights='imagenet',  # Load weights pre-trained on ImageNet\n",
    "    include_top=False,   # Do not include the ImageNet classifier at the top\n",
    "    input_shape=(IMG_HEIGHT, IMG_WIDTH, 3)\n",
    ")\n"
   ]
  },
  {
   "cell_type": "markdown",
   "metadata": {},
   "source": [
    "### Customize Model for Classification"
   ]
  },
  {
   "cell_type": "code",
   "execution_count": 7,
   "metadata": {},
   "outputs": [
    {
     "ename": "NameError",
     "evalue": "name 'base_model' is not defined",
     "output_type": "error",
     "traceback": [
      "\u001b[1;31m---------------------------------------------------------------------------\u001b[0m",
      "\u001b[1;31mNameError\u001b[0m                                 Traceback (most recent call last)",
      "Cell \u001b[1;32mIn[7], line 2\u001b[0m\n\u001b[0;32m      1\u001b[0m \u001b[38;5;66;03m# Freeze the base model\u001b[39;00m\n\u001b[1;32m----> 2\u001b[0m \u001b[43mbase_model\u001b[49m\u001b[38;5;241m.\u001b[39mtrainable \u001b[38;5;241m=\u001b[39m \u001b[38;5;28;01mFalse\u001b[39;00m\n\u001b[0;32m      4\u001b[0m \u001b[38;5;66;03m# Create a new model on top\u001b[39;00m\n\u001b[0;32m      5\u001b[0m inputs \u001b[38;5;241m=\u001b[39m keras\u001b[38;5;241m.\u001b[39mInput(shape\u001b[38;5;241m=\u001b[39m(IMG_HEIGHT, IMG_WIDTH, \u001b[38;5;241m3\u001b[39m))\n",
      "\u001b[1;31mNameError\u001b[0m: name 'base_model' is not defined"
     ]
    }
   ],
   "source": [
    "# Freeze the base model\n",
    "base_model.trainable = False\n",
    "\n",
    "# Create a new model on top\n",
    "inputs = keras.Input(shape=(IMG_HEIGHT, IMG_WIDTH, 3))\n",
    "x = base_model(inputs, training=False)\n",
    "x = layers.GlobalAveragePooling2D()(x)\n",
    "x = layers.Dropout(DROPOUT_RATE)(x)  # Regularization\n",
    "outputs = layers.Dense(train_generator.num_classes, activation=ACTIVATION_FUNCTION)(x)\n",
    "model = keras.Model(inputs, outputs)\n"
   ]
  },
  {
   "cell_type": "markdown",
   "metadata": {},
   "source": [
    "### Compile Model"
   ]
  },
  {
   "cell_type": "code",
   "execution_count": 7,
   "metadata": {},
   "outputs": [],
   "source": [
    "model.compile(\n",
    "    optimizer=keras.optimizers.Adam(learning_rate=LEARNING_RATE),\n",
    "    loss=LOSS_FUNCTION,\n",
    "    metrics=['accuracy']\n",
    ")\n"
   ]
  },
  {
   "cell_type": "markdown",
   "metadata": {},
   "source": [
    "### Train the Model"
   ]
  },
  {
   "cell_type": "code",
   "execution_count": 10,
   "metadata": {},
   "outputs": [],
   "source": [
    "# Define callbacks\n",
    "callbacks = [\n",
    "    keras.callbacks.ModelCheckpoint(\n",
    "        'best_model.h5', save_best_only=True, monitor='val_accuracy', mode='max'\n",
    "    ),\n",
    "    keras.callbacks.EarlyStopping(\n",
    "        monitor='val_accuracy', patience=5, restore_best_weights=True\n",
    "    )\n",
    "]"
   ]
  },
  {
   "cell_type": "code",
   "execution_count": 8,
   "metadata": {},
   "outputs": [
    {
     "name": "stdout",
     "output_type": "stream",
     "text": [
      "Epoch 1/10\n",
      "3983/3983 [==============================] - 1481s 371ms/step - loss: 3.3625 - accuracy: 0.0512 - val_loss: 3.1671 - val_accuracy: 0.0970\n",
      "Epoch 2/10\n",
      "3983/3983 [==============================] - 1165s 293ms/step - loss: 3.2126 - accuracy: 0.0708 - val_loss: 3.1229 - val_accuracy: 0.1023\n",
      "Epoch 3/10\n",
      "3983/3983 [==============================] - 1160s 291ms/step - loss: 3.1770 - accuracy: 0.0821 - val_loss: 3.1000 - val_accuracy: 0.1086\n",
      "Epoch 4/10\n",
      "3983/3983 [==============================] - 1161s 292ms/step - loss: 3.1538 - accuracy: 0.0870 - val_loss: 3.0804 - val_accuracy: 0.1195\n",
      "Epoch 5/10\n",
      "3983/3983 [==============================] - 1167s 293ms/step - loss: 3.1385 - accuracy: 0.0932 - val_loss: 3.0604 - val_accuracy: 0.1281\n",
      "Epoch 6/10\n",
      "3983/3983 [==============================] - 1160s 291ms/step - loss: 3.1237 - accuracy: 0.0989 - val_loss: 3.0542 - val_accuracy: 0.1437\n",
      "Epoch 7/10\n",
      "3983/3983 [==============================] - 1167s 293ms/step - loss: 3.1133 - accuracy: 0.1022 - val_loss: 3.0427 - val_accuracy: 0.1492\n",
      "Epoch 8/10\n",
      "3983/3983 [==============================] - 1163s 292ms/step - loss: 3.1045 - accuracy: 0.1049 - val_loss: 3.0327 - val_accuracy: 0.1525\n",
      "Epoch 9/10\n",
      "3983/3983 [==============================] - 1171s 294ms/step - loss: 3.0965 - accuracy: 0.1087 - val_loss: 3.0211 - val_accuracy: 0.1452\n",
      "Epoch 10/10\n",
      "3983/3983 [==============================] - 1161s 291ms/step - loss: 3.0901 - accuracy: 0.1090 - val_loss: 3.0099 - val_accuracy: 0.1524\n"
     ]
    }
   ],
   "source": [
    "# Train the model\n",
    "history = model.fit(\n",
    "    train_generator,\n",
    "    epochs=10,\n",
    "    validation_data=validation_generator,\n",
    "    callbacks=callbacks\n",
    ")\n"
   ]
  },
  {
   "cell_type": "markdown",
   "metadata": {},
   "source": [
    "### Resume Training"
   ]
  },
  {
   "cell_type": "code",
   "execution_count": 5,
   "metadata": {},
   "outputs": [],
   "source": [
    "model = keras.models.load_model('best_model.h5')"
   ]
  },
  {
   "cell_type": "markdown",
   "metadata": {},
   "source": [
    "### Unfreeze Some Layers for Fine-Tuning"
   ]
  },
  {
   "cell_type": "code",
   "execution_count": 12,
   "metadata": {},
   "outputs": [
    {
     "name": "stdout",
     "output_type": "stream",
     "text": [
      "Epoch 7/10\n",
      "3983/3983 [==============================] - 1200s 301ms/step - loss: 2.6295 - accuracy: 0.2193 - val_loss: 2.6915 - val_accuracy: 0.2127\n",
      "Epoch 8/10\n",
      "3983/3983 [==============================] - 1153s 289ms/step - loss: 2.6117 - accuracy: 0.2232 - val_loss: 2.5853 - val_accuracy: 0.2291\n",
      "Epoch 9/10\n",
      "3983/3983 [==============================] - 1144s 287ms/step - loss: 2.5937 - accuracy: 0.2283 - val_loss: 2.5953 - val_accuracy: 0.2327\n",
      "Epoch 10/10\n",
      "3983/3983 [==============================] - 1149s 288ms/step - loss: 2.5767 - accuracy: 0.2324 - val_loss: 2.5445 - val_accuracy: 0.2424\n"
     ]
    }
   ],
   "source": [
    "# Unfreeze the top layers of the model\n",
    "base_model.trainable = True\n",
    "\n",
    "# Freeze all layers except the last few layers\n",
    "for layer in base_model.layers[:-10]:\n",
    "    layer.trainable = False\n",
    "\n",
    "# Recompile the model with a lower learning rate\n",
    "model.compile(\n",
    "    optimizer=keras.optimizers.Adam(learning_rate=1e-5),\n",
    "    loss='categorical_crossentropy',\n",
    "    metrics=['accuracy']\n",
    ")\n",
    "\n",
    "# Continue training\n",
    "history_fine = model.fit(\n",
    "    train_generator,\n",
    "    initial_epoch=6,  # Start from the epoch you left off\n",
    "    epochs=10,\n",
    "    validation_data=validation_generator,\n",
    "    callbacks=callbacks\n",
    ")\n"
   ]
  },
  {
   "cell_type": "markdown",
   "metadata": {},
   "source": [
    "### Evaluate the Model"
   ]
  },
  {
   "cell_type": "code",
   "execution_count": 13,
   "metadata": {},
   "outputs": [
    {
     "name": "stdout",
     "output_type": "stream",
     "text": [
      "1547/1547 [==============================] - 342s 220ms/step - loss: 2.5122 - accuracy: 0.2508\n",
      "Test accuracy: 0.25\n",
      "1547/1547 [==============================] - 173s 111ms/step\n",
      "Classification Report\n",
      "                         precision    recall  f1-score   support\n",
      "\n",
      "        dry-asphalt-bad       0.27      0.24      0.25      2350\n",
      "       dry-asphalt-good       0.24      0.19      0.22      2350\n",
      "   dry-asphalt-horrible       0.14      0.13      0.14       800\n",
      "       dry-concrete-bad       0.23      0.32      0.26      2350\n",
      "      dry-concrete-good       0.31      0.10      0.15      2350\n",
      "  dry-concrete-horrible       0.33      0.45      0.38      2350\n",
      "             dry-gravel       0.31      0.32      0.32      2350\n",
      "                dry-mud       0.27      0.12      0.17      2350\n",
      "             fresh_snow       0.36      0.77      0.49      2350\n",
      "                    ice       0.30      0.19      0.23      2350\n",
      "            melted_snow       0.60      0.39      0.47      2350\n",
      "      water-asphalt-bad       0.10      0.02      0.03       800\n",
      "     water-asphalt-good       0.24      0.44      0.31      2350\n",
      " water-asphalt-horrible       0.00      0.00      0.00       800\n",
      "     water-concrete-bad       0.05      0.03      0.04       800\n",
      "    water-concrete-good       0.12      0.06      0.08      2350\n",
      "water-concrete-horrible       0.05      0.13      0.08       800\n",
      "           water-gravel       0.12      0.19      0.15       800\n",
      "              water-mud       0.25      0.18      0.21      2350\n",
      "        wet-asphalt-bad       0.23      0.14      0.18      2350\n",
      "       wet-asphalt-good       0.32      0.43      0.37      2350\n",
      "   wet-asphalt-horrible       0.00      0.00      0.00       800\n",
      "       wet-concrete-bad       0.06      0.32      0.10       800\n",
      "      wet-concrete-good       0.30      0.32      0.31      2350\n",
      "  wet-concrete-horrible       0.14      0.02      0.03       800\n",
      "             wet-gravel       0.23      0.20      0.21      2350\n",
      "                wet-mud       0.19      0.13      0.15      2350\n",
      "\n",
      "               accuracy                           0.25     49500\n",
      "              macro avg       0.21      0.22      0.20     49500\n",
      "           weighted avg       0.25      0.25      0.24     49500\n",
      "\n"
     ]
    },
    {
     "name": "stderr",
     "output_type": "stream",
     "text": [
      "c:\\Users\\kyles\\miniconda3\\envs\\tf\\lib\\site-packages\\sklearn\\metrics\\_classification.py:1531: UndefinedMetricWarning: Precision is ill-defined and being set to 0.0 in labels with no predicted samples. Use `zero_division` parameter to control this behavior.\n",
      "  _warn_prf(average, modifier, f\"{metric.capitalize()} is\", len(result))\n",
      "c:\\Users\\kyles\\miniconda3\\envs\\tf\\lib\\site-packages\\sklearn\\metrics\\_classification.py:1531: UndefinedMetricWarning: Precision is ill-defined and being set to 0.0 in labels with no predicted samples. Use `zero_division` parameter to control this behavior.\n",
      "  _warn_prf(average, modifier, f\"{metric.capitalize()} is\", len(result))\n",
      "c:\\Users\\kyles\\miniconda3\\envs\\tf\\lib\\site-packages\\sklearn\\metrics\\_classification.py:1531: UndefinedMetricWarning: Precision is ill-defined and being set to 0.0 in labels with no predicted samples. Use `zero_division` parameter to control this behavior.\n",
      "  _warn_prf(average, modifier, f\"{metric.capitalize()} is\", len(result))\n"
     ]
    }
   ],
   "source": [
    "# Load the best model\n",
    "model = keras.models.load_model('best_model.h5')\n",
    "\n",
    "# Evaluate on the test set\n",
    "test_loss, test_acc = model.evaluate(test_generator)\n",
    "print(f'Test accuracy: {test_acc:.2f}')\n",
    "\n",
    "# Generate classification report\n",
    "Y_pred = model.predict(test_generator)\n",
    "y_pred = np.argmax(Y_pred, axis=1)\n",
    "print('Classification Report')\n",
    "print(classification_report(test_generator.classes, y_pred, target_names=test_generator.class_indices.keys()))\n"
   ]
  },
  {
   "cell_type": "markdown",
   "metadata": {},
   "source": [
    "### VIsualize Training Results"
   ]
  },
  {
   "cell_type": "code",
   "execution_count": 14,
   "metadata": {},
   "outputs": [
    {
     "ename": "NameError",
     "evalue": "name 'history' is not defined",
     "output_type": "error",
     "traceback": [
      "\u001b[1;31m---------------------------------------------------------------------------\u001b[0m",
      "\u001b[1;31mNameError\u001b[0m                                 Traceback (most recent call last)",
      "Cell \u001b[1;32mIn[14], line 3\u001b[0m\n\u001b[0;32m      1\u001b[0m \u001b[38;5;66;03m# Plot training & validation accuracy values\u001b[39;00m\n\u001b[0;32m      2\u001b[0m plt\u001b[38;5;241m.\u001b[39mfigure(figsize\u001b[38;5;241m=\u001b[39m(\u001b[38;5;241m8\u001b[39m, \u001b[38;5;241m6\u001b[39m))\n\u001b[1;32m----> 3\u001b[0m plt\u001b[38;5;241m.\u001b[39mplot(\u001b[43mhistory\u001b[49m\u001b[38;5;241m.\u001b[39mhistory[\u001b[38;5;124m'\u001b[39m\u001b[38;5;124maccuracy\u001b[39m\u001b[38;5;124m'\u001b[39m] \u001b[38;5;241m+\u001b[39m history_fine\u001b[38;5;241m.\u001b[39mhistory[\u001b[38;5;124m'\u001b[39m\u001b[38;5;124maccuracy\u001b[39m\u001b[38;5;124m'\u001b[39m])\n\u001b[0;32m      4\u001b[0m plt\u001b[38;5;241m.\u001b[39mplot(history\u001b[38;5;241m.\u001b[39mhistory[\u001b[38;5;124m'\u001b[39m\u001b[38;5;124mval_accuracy\u001b[39m\u001b[38;5;124m'\u001b[39m] \u001b[38;5;241m+\u001b[39m history_fine\u001b[38;5;241m.\u001b[39mhistory[\u001b[38;5;124m'\u001b[39m\u001b[38;5;124mval_accuracy\u001b[39m\u001b[38;5;124m'\u001b[39m])\n\u001b[0;32m      5\u001b[0m plt\u001b[38;5;241m.\u001b[39mtitle(\u001b[38;5;124m'\u001b[39m\u001b[38;5;124mModel Accuracy\u001b[39m\u001b[38;5;124m'\u001b[39m)\n",
      "\u001b[1;31mNameError\u001b[0m: name 'history' is not defined"
     ]
    },
    {
     "data": {
      "text/plain": [
       "<Figure size 800x600 with 0 Axes>"
      ]
     },
     "metadata": {},
     "output_type": "display_data"
    }
   ],
   "source": [
    "# Plot training & validation accuracy values\n",
    "plt.figure(figsize=(8, 6))\n",
    "plt.plot(history.history['accuracy'] + history_fine.history['accuracy'])\n",
    "plt.plot(history.history['val_accuracy'] + history_fine.history['val_accuracy'])\n",
    "plt.title('Model Accuracy')\n",
    "plt.ylabel('Accuracy')\n",
    "plt.xlabel('Epoch')\n",
    "plt.legend(['Train', 'Validation'], loc='upper left')\n",
    "plt.show()\n",
    "\n",
    "# Plot training & validation loss values\n",
    "plt.figure(figsize=(8, 6))\n",
    "plt.plot(history.history['loss'] + history_fine.history['loss'])\n",
    "plt.plot(history.history['val_loss'] + history_fine.history['val_loss'])\n",
    "plt.title('Model Loss')\n",
    "plt.ylabel('Loss')\n",
    "plt.xlabel('Epoch')\n",
    "plt.legend(['Train', 'Validation'], loc='upper left')\n",
    "plt.show()\n"
   ]
  },
  {
   "cell_type": "markdown",
   "metadata": {},
   "source": [
    "Failed because training and fine tuning was interrupted. Therefore, visualiztions of history could not be shown."
   ]
  },
  {
   "cell_type": "markdown",
   "metadata": {},
   "source": [
    "### Save Trained Model"
   ]
  },
  {
   "cell_type": "code",
   "execution_count": 15,
   "metadata": {},
   "outputs": [],
   "source": [
    "# Save the trained model for future use\n",
    "model.save('road_surface_classifier.h5')\n"
   ]
  },
  {
   "cell_type": "markdown",
   "metadata": {},
   "source": []
  }
 ],
 "metadata": {
  "kernelspec": {
   "display_name": "Python 3",
   "language": "python",
   "name": "python3"
  },
  "language_info": {
   "codemirror_mode": {
    "name": "ipython",
    "version": 3
   },
   "file_extension": ".py",
   "mimetype": "text/x-python",
   "name": "python",
   "nbconvert_exporter": "python",
   "pygments_lexer": "ipython3",
   "version": "3.9.18"
  }
 },
 "nbformat": 4,
 "nbformat_minor": 2
}
